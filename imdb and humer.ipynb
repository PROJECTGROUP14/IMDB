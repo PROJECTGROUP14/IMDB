{
 "cells": [
  {
   "cell_type": "code",
   "execution_count": 2,
   "id": "f8f3fd96-936c-48ff-bbf1-4b12b23238ac",
   "metadata": {},
   "outputs": [
    {
     "name": "stdout",
     "output_type": "stream",
     "text": [
      "Avengers: Infinity War\n",
      "Black Panther\n",
      "Deadpool 2\n"
     ]
    }
   ],
   "source": [
    "#1Print the data of first 3 movies name.\n",
    "import requests\n",
    "from bs4 import BeautifulSoup\n",
    "\n",
    "req=requests.get(\"https://www.imdb.com/search/title/?release_date=2018&sort=num_votes,desc&page=1&ref_=adv_nxt\")\n",
    "\n",
    "res=req.text\n",
    "res\n",
    "soup=BeautifulSoup(res,'html.parser')\n",
    "\n",
    "mc=soup.find_all('div',class_='lister-item-content')\n",
    "\n",
    "for i in mc[:3]:\n",
    "    mn=i.h3.a.text\n",
    "    print(mn)"
   ]
  },
  {
   "cell_type": "code",
   "execution_count": 26,
   "id": "4acd4284-7291-4786-918c-696f032d1514",
   "metadata": {
    "tags": []
   },
   "outputs": [
    {
     "name": "stdout",
     "output_type": "stream",
     "text": [
      "--- 2010 ---\n",
      "Inception - 2,431,332\n",
      "Shutter Island - 1,373,452\n",
      "The Walking Dead - 1,035,650\n",
      "Sherlock - 957,337\n",
      "Toy Story 3 - 860,963\n",
      "\n",
      "\n",
      "--- 2011 ---\n",
      "Game of Thrones - 2,180,889\n",
      "Harry Potter and the Deathly Hallows: Part 2 - 906,953\n",
      "The Intouchables - 887,391\n",
      "Thor - 874,110\n",
      "Captain America: The First Avenger - 869,679\n",
      "\n",
      "\n",
      "--- 2012 ---\n",
      "The Dark Knight Rises - 1,753,558\n",
      "Django Unchained - 1,612,609\n",
      "The Avengers - 1,422,844\n",
      "The Hunger Games - 953,550\n",
      "The Hobbit: An Unexpected Journey - 847,307\n",
      "\n",
      "\n",
      "--- 2013 ---\n",
      "The Wolf of Wall Street - 1,477,881\n",
      "Iron Man Three - 873,920\n",
      "Gravity - 843,377\n",
      "Man of Steel - 791,143\n",
      "Prisoners - 755,405\n",
      "\n",
      "\n",
      "--- 2014 ---\n",
      "Interstellar - 1,936,887\n",
      "Guardians of the Galaxy - 1,229,246\n",
      "Gone Girl - 1,015,846\n",
      "Whiplash - 915,090\n",
      "Captain America: The Winter Soldier - 871,962\n",
      "\n",
      "\n"
     ]
    }
   ],
   "source": [
    "#2. Print the names of first 5 movies with highest number of votes from year 2010 to 2014\n",
    "#Note : Print the titles line wise starting from year 2010\n",
    "#Output Format :\n",
    "#year votes\n",
    "#year votes\n",
    "\n",
    "import requests\n",
    "from bs4 import BeautifulSoup\n",
    "for year in range(2010,2015):\n",
    "        req=requests.get(f\"https://www.imdb.com/search/title/?release_date={year}&sort=num_votes,desc&page=1\")\n",
    "        rsp=req.text\n",
    "        soup=BeautifulSoup(rsp,'html.parser')\n",
    "        jk=soup.find_all('div',class_='lister-item-content')\n",
    "        print(f\"--- {year} ---\")\n",
    "        for i, movie in enumerate(jk[:5]):\n",
    "            movie_name = movie.h3.a.text\n",
    "            movie_votes = movie.find('span', attrs={'name': 'nv'}).text\n",
    "            print(f\"{movie_name} - {movie_votes}\")\n",
    "\n",
    "        print(\"\\n\")\n",
    "\n",
    "        \n",
    "\n",
    "        \n",
    "\n"
   ]
  },
  {
   "cell_type": "code",
   "execution_count": 25,
   "id": "9096d9b3-8c1f-4372-9d35-0d91e94df8cc",
   "metadata": {
    "tags": []
   },
   "outputs": [
    {
     "name": "stdout",
     "output_type": "stream",
     "text": [
      "“The person, be it gentleman or lady, who has not pleasure in a good novel, must be intolerably stupid.”\n",
      "“A day without sunshine is like, you know, night.”\n",
      "“Anyone who thinks sitting in church can make you a Christian must also think that sitting in a garage can make you a car.”\n",
      "“Beauty is in the eye of the beholder and it may be necessary from time to time to give a stupid or misinformed beholder a black eye.”\n",
      "“All you need is love. But a little chocolate now and then doesn't hurt.”\n",
      "“Remember, we're madly in love, so it's all right to kiss me anytime you feel like it.”\n",
      "“Some people never go crazy. What truly horrible lives they must lead.”\n",
      "“The trouble with having an open mind, of course, is that people will insist on coming along and trying to put things in it.”\n",
      "“Think left and think right and think low and think high. Oh, the thinks you can think up if only you try!”\n",
      "“The reason I talk to myself is because I’m the only one whose answers I accept.”\n",
      "“I am free of all prejudice. I hate everyone equally. ”\n",
      "“A lady's imagination is very rapid; it jumps from admiration to love, from love to matrimony in a moment.”\n"
     ]
    }
   ],
   "source": [
    "#4. Find all the quotes that have the tag as \"humor\" from this website.\n",
    "import requests\n",
    "from bs4 import BeautifulSoup \n",
    "\n",
    "urls=[\"http://quotes.toscrape.com/tag/humor/page/1/\",\"http://quotes.toscrape.com/tag/humor/page/2/\"]\n",
    "for url in urls:\n",
    "\n",
    "    req=requests.get(url)\n",
    "    req\n",
    "    res=req.text\n",
    "    soup=BeautifulSoup(res,'html.parser')\n",
    "    qe=soup.find_all('div',class_='quote',attrs={'class':'tag','class':'humor'})\n",
    "\n",
    "    for i in qe:\n",
    "        qt=i.find('span',class_='text').text\n",
    "        print(qt)\n",
    "    \n",
    "\n",
    "\n"
   ]
  },
  {
   "cell_type": "code",
   "execution_count": 24,
   "id": "fefededf-cc12-48f6-8766-19bc605001f5",
   "metadata": {},
   "outputs": [
    {
     "name": "stdout",
     "output_type": "stream",
     "text": [
      "“There are only two ways to live your life. One is as though nothing is a miracle. The other is as though everything is a miracle.”\n"
     ]
    }
   ],
   "source": [
    "#5. Find all the quotes by Albert Einstein(in the order they appear on the page) from this website\n",
    "\n",
    "import requests\n",
    "from bs4 import BeautifulSoup\n",
    "\n",
    "req=requests.get(\"http://quotes.toscrape.com/tag/inspirational/\") \n",
    "re=req.text\n",
    "soup=BeautifulSoup(re,'html.parser')\n",
    "allc=soup.find_all('div',class_='quote')\n",
    "for i in allc:\n",
    "    au=i.find('small',class_='author').text  \n",
    "    if au==\"Albert Einstein\":\n",
    "        aq=i.find('span',class_='text').text\n",
    "        print(aq)\n",
    "        \n",
    "        \n",
    "    "
   ]
  },
  {
   "cell_type": "code",
   "execution_count": null,
   "id": "c0efd187-baa4-4fb0-a3ef-026f8885ff7c",
   "metadata": {},
   "outputs": [],
   "source": []
  }
 ],
 "metadata": {
  "kernelspec": {
   "display_name": "Python 3 (ipykernel)",
   "language": "python",
   "name": "python3"
  },
  "language_info": {
   "codemirror_mode": {
    "name": "ipython",
    "version": 3
   },
   "file_extension": ".py",
   "mimetype": "text/x-python",
   "name": "python",
   "nbconvert_exporter": "python",
   "pygments_lexer": "ipython3",
   "version": "3.10.9"
  }
 },
 "nbformat": 4,
 "nbformat_minor": 5
}
